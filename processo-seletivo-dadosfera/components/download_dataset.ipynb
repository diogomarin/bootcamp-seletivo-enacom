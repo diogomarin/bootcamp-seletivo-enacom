{
 "cells": [
  {
   "cell_type": "code",
   "execution_count": 1,
   "metadata": {
    "execution": {
     "iopub.execute_input": "2023-09-15T14:17:55.516654Z",
     "iopub.status.busy": "2023-09-15T14:17:55.516236Z",
     "iopub.status.idle": "2023-09-15T14:17:58.518127Z",
     "shell.execute_reply": "2023-09-15T14:17:58.516504Z"
    },
    "tags": []
   },
   "outputs": [],
   "source": [
    "import datasets\n",
    "import pandas as pd"
   ]
  },
  {
   "cell_type": "code",
   "execution_count": 2,
   "metadata": {
    "execution": {
     "iopub.execute_input": "2023-09-15T14:17:59.672361Z",
     "iopub.status.busy": "2023-09-15T14:17:59.670528Z",
     "iopub.status.idle": "2023-09-15T14:20:22.242604Z",
     "shell.execute_reply": "2023-09-15T14:20:22.239765Z"
    },
    "tags": []
   },
   "outputs": [
    {
     "data": {
      "application/vnd.jupyter.widget-view+json": {
       "model_id": "a409a742be2644b6ab45123af4f5824e",
       "version_major": 2,
       "version_minor": 0
      },
      "text/plain": [
       "Downloading builder script:   0%|          | 0.00/3.00k [00:00<?, ?B/s]"
      ]
     },
     "metadata": {},
     "output_type": "display_data"
    },
    {
     "data": {
      "application/vnd.jupyter.widget-view+json": {
       "model_id": "7ea35bc5f17a465fb71aee1813b0239d",
       "version_major": 2,
       "version_minor": 0
      },
      "text/plain": [
       "Downloading data files:   0%|          | 0/1 [00:00<?, ?it/s]"
      ]
     },
     "metadata": {},
     "output_type": "display_data"
    },
    {
     "data": {
      "application/vnd.jupyter.widget-view+json": {
       "model_id": "cfbec8052c0d4bc0acb1e65627d20a6e",
       "version_major": 2,
       "version_minor": 0
      },
      "text/plain": [
       "Downloading data:   0%|          | 0.00/1.87G [00:00<?, ?B/s]"
      ]
     },
     "metadata": {},
     "output_type": "display_data"
    },
    {
     "data": {
      "application/vnd.jupyter.widget-view+json": {
       "model_id": "7687bf1a717147ee8d8edf543e339d95",
       "version_major": 2,
       "version_minor": 0
      },
      "text/plain": [
       "Extracting data files:   0%|          | 0/1 [00:00<?, ?it/s]"
      ]
     },
     "metadata": {},
     "output_type": "display_data"
    },
    {
     "data": {
      "application/vnd.jupyter.widget-view+json": {
       "model_id": "891a44e021b54947bbb586ac1ee1de32",
       "version_major": 2,
       "version_minor": 0
      },
      "text/plain": [
       "Generating train split: 0 examples [00:00, ? examples/s]"
      ]
     },
     "metadata": {},
     "output_type": "display_data"
    }
   ],
   "source": [
    "from datasets import load_dataset\n",
    "\n",
    "dataset = load_dataset(\"spacemanidol/product-search-corpus\")"
   ]
  },
  {
   "cell_type": "code",
   "execution_count": 6,
   "metadata": {
    "execution": {
     "iopub.execute_input": "2023-09-15T14:20:23.335606Z",
     "iopub.status.busy": "2023-09-15T14:20:23.335192Z",
     "iopub.status.idle": "2023-09-15T14:20:23.345734Z",
     "shell.execute_reply": "2023-09-15T14:20:23.344907Z"
    },
    "tags": []
   },
   "outputs": [
    {
     "data": {
      "text/plain": [
       "DatasetDict({\n",
       "    train: Dataset({\n",
       "        features: ['docid', 'title', 'text'],\n",
       "        num_rows: 1118658\n",
       "    })\n",
       "})"
      ]
     },
     "execution_count": 6,
     "metadata": {},
     "output_type": "execute_result"
    }
   ],
   "source": [
    "dataset"
   ]
  },
  {
   "cell_type": "code",
   "execution_count": 8,
   "metadata": {
    "execution": {
     "iopub.execute_input": "2023-09-15T14:20:24.411362Z",
     "iopub.status.busy": "2023-09-15T14:20:24.410388Z",
     "iopub.status.idle": "2023-09-15T14:20:24.418789Z",
     "shell.execute_reply": "2023-09-15T14:20:24.417755Z"
    },
    "tags": []
   },
   "outputs": [
    {
     "data": {
      "text/plain": [
       "Dataset({\n",
       "    features: ['docid', 'title', 'text'],\n",
       "    num_rows: 1118658\n",
       "})"
      ]
     },
     "execution_count": 8,
     "metadata": {},
     "output_type": "execute_result"
    }
   ],
   "source": [
    "dataset['train']"
   ]
  },
  {
   "cell_type": "code",
   "execution_count": 9,
   "metadata": {
    "execution": {
     "iopub.execute_input": "2023-09-15T14:20:25.508452Z",
     "iopub.status.busy": "2023-09-15T14:20:25.507305Z",
     "iopub.status.idle": "2023-09-15T14:20:25.513670Z",
     "shell.execute_reply": "2023-09-15T14:20:25.512718Z"
    },
    "tags": []
   },
   "outputs": [
    {
     "data": {
      "text/plain": [
       "{'train': (1118658, 3)}"
      ]
     },
     "execution_count": 9,
     "metadata": {},
     "output_type": "execute_result"
    }
   ],
   "source": [
    "dataset.shape"
   ]
  },
  {
   "cell_type": "code",
   "execution_count": 11,
   "metadata": {
    "execution": {
     "iopub.execute_input": "2023-09-15T14:20:26.604335Z",
     "iopub.status.busy": "2023-09-15T14:20:26.602950Z",
     "iopub.status.idle": "2023-09-15T14:20:26.613097Z",
     "shell.execute_reply": "2023-09-15T14:20:26.612181Z"
    },
    "tags": []
   },
   "outputs": [
    {
     "data": {
      "text/plain": [
       "DatasetInfo(description='dataset load script for TREC Product Search Corpus', citation='\\n\\n', homepage='', license='', features={'docid': Value(dtype='string', id=None), 'title': Value(dtype='string', id=None), 'text': Value(dtype='string', id=None)}, post_processed=None, supervised_keys=None, task_templates=None, builder_name='product-search-corpus', dataset_name='product-search-corpus', config_name='default', version=0.0.1, splits={'train': SplitInfo(name='train', num_bytes=1817982776, num_examples=1118658, shard_lengths=[309000, 308000, 308000, 193658], dataset_name='product-search-corpus')}, download_checksums={'https://huggingface.co/datasets/spacemanidol/product-search-corpus/resolve/main/corpus-simple.jsonl': {'num_bytes': 1867777623, 'checksum': None}}, download_size=1867777623, post_processing_size=None, dataset_size=1817982776, size_in_bytes=3685760399)"
      ]
     },
     "execution_count": 11,
     "metadata": {},
     "output_type": "execute_result"
    }
   ],
   "source": [
    "dataset['train'].info"
   ]
  },
  {
   "cell_type": "code",
   "execution_count": 13,
   "metadata": {
    "execution": {
     "iopub.execute_input": "2023-09-15T14:20:27.630210Z",
     "iopub.status.busy": "2023-09-15T14:20:27.629253Z",
     "iopub.status.idle": "2023-09-15T14:20:27.635600Z",
     "shell.execute_reply": "2023-09-15T14:20:27.634781Z"
    },
    "tags": []
   },
   "outputs": [
    {
     "data": {
      "text/plain": [
       "{'https://huggingface.co/datasets/spacemanidol/product-search-corpus/resolve/main/corpus-simple.jsonl': {'num_bytes': 1867777623,\n",
       "  'checksum': None}}"
      ]
     },
     "execution_count": 13,
     "metadata": {},
     "output_type": "execute_result"
    }
   ],
   "source": [
    "dataset['train'].download_checksums"
   ]
  },
  {
   "cell_type": "code",
   "execution_count": 15,
   "metadata": {
    "execution": {
     "iopub.execute_input": "2023-09-15T14:20:28.740905Z",
     "iopub.status.busy": "2023-09-15T14:20:28.739467Z",
     "iopub.status.idle": "2023-09-15T14:20:33.778362Z",
     "shell.execute_reply": "2023-09-15T14:20:33.777019Z"
    },
    "tags": []
   },
   "outputs": [],
   "source": [
    "df = dataset['train'].to_pandas()"
   ]
  },
  {
   "cell_type": "code",
   "execution_count": 16,
   "metadata": {
    "execution": {
     "iopub.execute_input": "2023-09-15T14:20:35.092014Z",
     "iopub.status.busy": "2023-09-15T14:20:35.091620Z",
     "iopub.status.idle": "2023-09-15T14:20:35.555383Z",
     "shell.execute_reply": "2023-09-15T14:20:35.553870Z"
    },
    "tags": []
   },
   "outputs": [
    {
     "name": "stdout",
     "output_type": "stream",
     "text": [
      "<class 'pandas.core.frame.DataFrame'>\n",
      "RangeIndex: 1118658 entries, 0 to 1118657\n",
      "Data columns (total 3 columns):\n",
      " #   Column  Non-Null Count    Dtype \n",
      "---  ------  --------------    ----- \n",
      " 0   docid   1118658 non-null  object\n",
      " 1   title   1118658 non-null  object\n",
      " 2   text    1118658 non-null  object\n",
      "dtypes: object(3)\n",
      "memory usage: 25.6+ MB\n"
     ]
    }
   ],
   "source": [
    "df.info()"
   ]
  },
  {
   "cell_type": "code",
   "execution_count": 17,
   "metadata": {
    "execution": {
     "iopub.execute_input": "2023-09-15T14:20:36.631083Z",
     "iopub.status.busy": "2023-09-15T14:20:36.630569Z",
     "iopub.status.idle": "2023-09-15T14:20:36.667793Z",
     "shell.execute_reply": "2023-09-15T14:20:36.666958Z"
    },
    "tags": []
   },
   "outputs": [
    {
     "data": {
      "text/html": [
       "<div>\n",
       "<style scoped>\n",
       "    .dataframe tbody tr th:only-of-type {\n",
       "        vertical-align: middle;\n",
       "    }\n",
       "\n",
       "    .dataframe tbody tr th {\n",
       "        vertical-align: top;\n",
       "    }\n",
       "\n",
       "    .dataframe thead th {\n",
       "        text-align: right;\n",
       "    }\n",
       "</style>\n",
       "<table border=\"1\" class=\"dataframe\">\n",
       "  <thead>\n",
       "    <tr style=\"text-align: right;\">\n",
       "      <th></th>\n",
       "      <th>docid</th>\n",
       "      <th>title</th>\n",
       "      <th>text</th>\n",
       "    </tr>\n",
       "  </thead>\n",
       "  <tbody>\n",
       "    <tr>\n",
       "      <th>0</th>\n",
       "      <td>1</td>\n",
       "      <td>FYY Leather Case with Mirror for Samsung Galax...</td>\n",
       "      <td>Product Description Premium PU Leather Top qua...</td>\n",
       "    </tr>\n",
       "    <tr>\n",
       "      <th>1</th>\n",
       "      <td>2</td>\n",
       "      <td>Playtex Women's 18 Hour Easy On, Easy Off Fron...</td>\n",
       "      <td>Product Description Introducing Playtex 18 hou...</td>\n",
       "    </tr>\n",
       "    <tr>\n",
       "      <th>2</th>\n",
       "      <td>4</td>\n",
       "      <td>YUEPIN U-Tube Clamp 304 Stainless Steel Hose P...</td>\n",
       "      <td>Product Description Specification: Material: 3...</td>\n",
       "    </tr>\n",
       "    <tr>\n",
       "      <th>3</th>\n",
       "      <td>5</td>\n",
       "      <td>Bruce's Big Storm (Mother Bruce Series)</td>\n",
       "      <td></td>\n",
       "    </tr>\n",
       "    <tr>\n",
       "      <th>4</th>\n",
       "      <td>6</td>\n",
       "      <td>DJI Shoulder Neck Strap Belt Sling Lanyard Nec...</td>\n",
       "      <td>Product Description Specifications: Item Condi...</td>\n",
       "    </tr>\n",
       "  </tbody>\n",
       "</table>\n",
       "</div>"
      ],
      "text/plain": [
       "  docid                                              title  \\\n",
       "0     1  FYY Leather Case with Mirror for Samsung Galax...   \n",
       "1     2  Playtex Women's 18 Hour Easy On, Easy Off Fron...   \n",
       "2     4  YUEPIN U-Tube Clamp 304 Stainless Steel Hose P...   \n",
       "3     5            Bruce's Big Storm (Mother Bruce Series)   \n",
       "4     6  DJI Shoulder Neck Strap Belt Sling Lanyard Nec...   \n",
       "\n",
       "                                                text  \n",
       "0  Product Description Premium PU Leather Top qua...  \n",
       "1  Product Description Introducing Playtex 18 hou...  \n",
       "2  Product Description Specification: Material: 3...  \n",
       "3                                                     \n",
       "4  Product Description Specifications: Item Condi...  "
      ]
     },
     "execution_count": 17,
     "metadata": {},
     "output_type": "execute_result"
    }
   ],
   "source": [
    "df.head()"
   ]
  },
  {
   "cell_type": "code",
   "execution_count": null,
   "metadata": {},
   "outputs": [],
   "source": [
    "\"trazer a analise da select_sample pra cá\""
   ]
  }
 ],
 "metadata": {
  "kernelspec": {
   "display_name": "env_dadosfera",
   "language": "python",
   "name": "python3"
  },
  "language_info": {
   "codemirror_mode": {
    "name": "ipython",
    "version": 3
   },
   "file_extension": ".py",
   "mimetype": "text/x-python",
   "name": "python",
   "nbconvert_exporter": "python",
   "pygments_lexer": "ipython3",
   "version": "3.11.5"
  }
 },
 "nbformat": 4,
 "nbformat_minor": 4
}
